{
  "cells": [
    {
      "cell_type": "markdown",
      "metadata": {
        "id": "view-in-github",
        "colab_type": "text"
      },
      "source": [
        "<a href=\"https://colab.research.google.com/github/ranjanchoubey/sql/blob/master/chapters/chapter1.ipynb\" target=\"_parent\"><img src=\"https://colab.research.google.com/assets/colab-badge.svg\" alt=\"Open In Colab\"/></a>"
      ]
    },
    {
      "cell_type": "markdown",
      "id": "0e520104",
      "metadata": {
        "id": "0e520104"
      },
      "source": []
    },
    {
      "cell_type": "markdown",
      "id": "eef686c5",
      "metadata": {
        "id": "eef686c5"
      },
      "source": [
        "# Chapter 1: SQL Basics\n",
        "\n",
        "This chapter covers the fundamental concepts of SQL using SQLite. You'll learn database setup, table creation, and basic querying.\n",
        "\n",
        "## Topics Covered:\n",
        "1. Database Setup and Connection\n",
        "2. Creating Tables and Data Types\n",
        "3. Inserting Data\n",
        "4. Basic SELECT Queries\n",
        "5. Filtering with WHERE\n",
        "6. Sorting Data with ORDER BY"
      ]
    },
    {
      "cell_type": "markdown",
      "id": "2c353a39",
      "metadata": {
        "id": "2c353a39"
      },
      "source": [
        "```{raw} html\n",
        "<a href=\"https://colab.research.google.com/github/yourusername/quarto_binder_thebe_demo/blob/main/notebooks/01-transformer-demo.ipynb\" target=\"_blank\">\n",
        "  <img src=\"https://colab.research.google.com/assets/colab-badge.svg\" alt=\"Open in Colab\"/>\n",
        "</a>\n",
        "```"
      ]
    },
    {
      "cell_type": "markdown",
      "id": "d677b5bf",
      "metadata": {
        "id": "d677b5bf"
      },
      "source": [
        "## pdf\n"
      ]
    },
    {
      "cell_type": "code",
      "source": [
        "!ls -a"
      ],
      "metadata": {
        "colab": {
          "base_uri": "https://localhost:8080/"
        },
        "id": "tSrWiq0QPyE4",
        "outputId": "181950eb-1e06-4229-fb75-30388676a932"
      },
      "id": "tSrWiq0QPyE4",
      "execution_count": 6,
      "outputs": [
        {
          "output_type": "stream",
          "name": "stdout",
          "text": [
            ".  ..  .config\tsample_data\n"
          ]
        }
      ]
    },
    {
      "cell_type": "markdown",
      "id": "0fc88031",
      "metadata": {
        "id": "0fc88031"
      },
      "source": [
        "<div style=\"width: 100%; height: 600px; border: 1px solid #ccc; border-radius: 4px; overflow: hidden;\">\n",
        "    <iframe\n",
        "        src=\"https://github.com/ranjanchoubey/sql/blob/master/assets/pdfs/Python_Complete_Notes.pdf\"\n",
        "        width=\"100%\"\n",
        "        height=\"100%\"\n",
        "        style=\"border: none;\"\n",
        "        title=\"Python Complete Notes PDF\"\n",
        "        type=\"application/pdf\">\n",
        "        <p>Your browser does not support PDFs. Please download the PDF to view it:\n",
        "        <a href=\"https://github.com/ranjanchoubey/sql/blob/master/assets/pdfs/Python_Complete_Notes.pdf\">Download PDF</a></p>\n",
        "    </iframe>\n",
        "</div>"
      ]
    },
    {
      "cell_type": "code",
      "source": [
        "%%html\n",
        "<object\n",
        "    data=\"/files/your_file.pdf\"\n",
        "    type=\"application/pdf\"\n",
        "    width=\"100%\"\n",
        "    height=\"600px\">\n",
        "  <p>Your browser doesn’t support inline PDFs.\n",
        "     <a href=\"/content/test.pdf\" target=\"_blank\">Download the PDF</a>.\n",
        "  </p>\n",
        "</object>\n"
      ],
      "metadata": {
        "id": "Cs7CdDLxRcPE",
        "outputId": "cbd88855-78ad-447a-d3f3-b43dd78ab2cb",
        "colab": {
          "base_uri": "https://localhost:8080/",
          "height": 46
        }
      },
      "id": "Cs7CdDLxRcPE",
      "execution_count": 10,
      "outputs": [
        {
          "output_type": "display_data",
          "data": {
            "text/plain": [
              "<IPython.core.display.HTML object>"
            ],
            "text/html": [
              "<object \n",
              "    data=\"/files/your_file.pdf\" \n",
              "    type=\"application/pdf\" \n",
              "    width=\"100%\" \n",
              "    height=\"600px\">\n",
              "  <p>Your browser doesn’t support inline PDFs. \n",
              "     <a href=\"/content/test.pdf\" target=\"_blank\">Download the PDF</a>.\n",
              "  </p>\n",
              "</object>\n"
            ]
          },
          "metadata": {}
        }
      ]
    },
    {
      "cell_type": "markdown",
      "source": [],
      "metadata": {
        "id": "loBykcHmTbPx"
      },
      "id": "loBykcHmTbPx"
    },
    {
      "cell_type": "code",
      "source": [],
      "metadata": {
        "id": "-2xUiGuVTUym",
        "outputId": "439cf166-0eef-4b17-da27-6b7bee2ba560",
        "colab": {
          "base_uri": "https://localhost:8080/",
          "height": 17
        }
      },
      "id": "-2xUiGuVTUym",
      "execution_count": 14,
      "outputs": [
        {
          "output_type": "display_data",
          "data": {
            "text/plain": [
              "<IPython.core.display.HTML object>"
            ],
            "text/html": [
              "<iframe\n",
              "    src=\"/content/test.pdf\"\n",
              "    width=\"100%\"\n",
              "    height=\"800px\"\n",
              "    style=\"border: none;\"\n",
              "></iframe>\n"
            ]
          },
          "metadata": {}
        }
      ]
    },
    {
      "cell_type": "code",
      "source": [
        "from IPython.display import display, PDF\n",
        "import base64\n",
        "\n",
        "with open(\"/content/test.pdf\", \"rb\") as f:\n",
        "    b64 = base64.b64encode(f.read()).decode()\n",
        "\n",
        "# PDF() accepts raw bytes too, so you can decode before passing:\n",
        "pdf_bytes = base64.b64decode(b64)\n",
        "display(PDF(data=pdf_bytes, width=800, height=600))\n"
      ],
      "metadata": {
        "id": "OQ9GaE9aTF5b",
        "outputId": "1cf90c17-e7ff-4115-a61b-5e5f71860a84",
        "colab": {
          "base_uri": "https://localhost:8080/",
          "height": 401
        }
      },
      "id": "OQ9GaE9aTF5b",
      "execution_count": 20,
      "outputs": [
        {
          "output_type": "error",
          "ename": "ImportError",
          "evalue": "cannot import name 'PDF' from 'IPython.display' (/usr/local/lib/python3.11/dist-packages/IPython/display.py)",
          "traceback": [
            "\u001b[0;31m---------------------------------------------------------------------------\u001b[0m",
            "\u001b[0;31mImportError\u001b[0m                               Traceback (most recent call last)",
            "\u001b[0;32m/tmp/ipython-input-20-648892915.py\u001b[0m in \u001b[0;36m<cell line: 0>\u001b[0;34m()\u001b[0m\n\u001b[0;32m----> 1\u001b[0;31m \u001b[0;32mfrom\u001b[0m \u001b[0mIPython\u001b[0m\u001b[0;34m.\u001b[0m\u001b[0mdisplay\u001b[0m \u001b[0;32mimport\u001b[0m \u001b[0mdisplay\u001b[0m\u001b[0;34m,\u001b[0m \u001b[0mPDF\u001b[0m\u001b[0;34m\u001b[0m\u001b[0;34m\u001b[0m\u001b[0m\n\u001b[0m\u001b[1;32m      2\u001b[0m \u001b[0;32mimport\u001b[0m \u001b[0mbase64\u001b[0m\u001b[0;34m\u001b[0m\u001b[0;34m\u001b[0m\u001b[0m\n\u001b[1;32m      3\u001b[0m \u001b[0;34m\u001b[0m\u001b[0m\n\u001b[1;32m      4\u001b[0m \u001b[0;32mwith\u001b[0m \u001b[0mopen\u001b[0m\u001b[0;34m(\u001b[0m\u001b[0;34m\"/content/test.pdf\"\u001b[0m\u001b[0;34m,\u001b[0m \u001b[0;34m\"rb\"\u001b[0m\u001b[0;34m)\u001b[0m \u001b[0;32mas\u001b[0m \u001b[0mf\u001b[0m\u001b[0;34m:\u001b[0m\u001b[0;34m\u001b[0m\u001b[0;34m\u001b[0m\u001b[0m\n\u001b[1;32m      5\u001b[0m     \u001b[0mb64\u001b[0m \u001b[0;34m=\u001b[0m \u001b[0mbase64\u001b[0m\u001b[0;34m.\u001b[0m\u001b[0mb64encode\u001b[0m\u001b[0;34m(\u001b[0m\u001b[0mf\u001b[0m\u001b[0;34m.\u001b[0m\u001b[0mread\u001b[0m\u001b[0;34m(\u001b[0m\u001b[0;34m)\u001b[0m\u001b[0;34m)\u001b[0m\u001b[0;34m.\u001b[0m\u001b[0mdecode\u001b[0m\u001b[0;34m(\u001b[0m\u001b[0;34m)\u001b[0m\u001b[0;34m\u001b[0m\u001b[0;34m\u001b[0m\u001b[0m\n",
            "\u001b[0;31mImportError\u001b[0m: cannot import name 'PDF' from 'IPython.display' (/usr/local/lib/python3.11/dist-packages/IPython/display.py)",
            "",
            "\u001b[0;31m---------------------------------------------------------------------------\u001b[0;32m\nNOTE: If your import is failing due to a missing package, you can\nmanually install dependencies using either !pip or !apt.\n\nTo view examples of installing some common dependencies, click the\n\"Open Examples\" button below.\n\u001b[0;31m---------------------------------------------------------------------------\u001b[0m\n"
          ],
          "errorDetails": {
            "actions": [
              {
                "action": "open_url",
                "actionText": "Open Examples",
                "url": "/notebooks/snippets/importing_libraries.ipynb"
              }
            ]
          }
        }
      ]
    },
    {
      "cell_type": "code",
      "source": [
        "!ls -lh /content/test.pdf"
      ],
      "metadata": {
        "id": "hZXqTKWlUXrb",
        "outputId": "2d42115e-2136-4065-c1c0-ff70cd5a27a1",
        "colab": {
          "base_uri": "https://localhost:8080/"
        }
      },
      "id": "hZXqTKWlUXrb",
      "execution_count": 21,
      "outputs": [
        {
          "output_type": "stream",
          "name": "stdout",
          "text": [
            "-rw-r--r-- 1 root root 19K Jul  4 16:34 /content/test.pdf\n"
          ]
        }
      ]
    },
    {
      "cell_type": "code",
      "source": [
        "# 1. Download the raw PDF from GitHub into /content\n",
        "!wget -qO /content/Python_Complete_Notes.pdf \\\n",
        "    https://raw.githubusercontent.com/ranjanchoubey/sql/master/assets/pdfs/Python_Complete_Notes.pdf\n",
        "\n",
        "# 2a. Option A: display it via an <iframe>\n",
        "from IPython.display import IFrame, display\n",
        "display(IFrame('/content/Python_Complete_Notes.pdf', width='100%', height='800px'))\n"
      ],
      "metadata": {
        "id": "kl87pZBfXaPB",
        "outputId": "31cb3824-47da-4e51-d36b-64b68f5b7dcf",
        "colab": {
          "base_uri": "https://localhost:8080/",
          "height": 17
        }
      },
      "id": "kl87pZBfXaPB",
      "execution_count": 33,
      "outputs": [
        {
          "output_type": "display_data",
          "data": {
            "text/plain": [
              "<IPython.lib.display.IFrame at 0x789d542cf210>"
            ],
            "text/html": [
              "\n",
              "        <iframe\n",
              "            width=\"100%\"\n",
              "            height=\"800px\"\n",
              "            src=\"/content/Python_Complete_Notes.pdf\"\n",
              "            frameborder=\"0\"\n",
              "            allowfullscreen\n",
              "            \n",
              "        ></iframe>\n",
              "        "
            ]
          },
          "metadata": {}
        }
      ]
    },
    {
      "cell_type": "code",
      "source": [
        "%%html\n",
        "<iframe\n",
        "  src=\"https://docs.google.com/gview?url=https://raw.githubusercontent.com/ranjanchoubey/sql/master/assets/pdfs/Python_Complete_Notes.pdf&embedded=true\"\n",
        "  width=\"100%\"\n",
        "  height=\"800px\"\n",
        "  style=\"border:none;\">\n",
        "</iframe>\n"
      ],
      "metadata": {
        "id": "CEMCC5V1W-sj",
        "outputId": "86344617-b001-4ca5-9ad9-40504a277565",
        "colab": {
          "base_uri": "https://localhost:8080/",
          "height": 821
        }
      },
      "id": "CEMCC5V1W-sj",
      "execution_count": 31,
      "outputs": [
        {
          "output_type": "display_data",
          "data": {
            "text/plain": [
              "<IPython.core.display.HTML object>"
            ],
            "text/html": [
              "<iframe\n",
              "  src=\"https://docs.google.com/gview?url=https://raw.githubusercontent.com/ranjanchoubey/sql/master/assets/pdfs/Python_Complete_Notes.pdf&embedded=true\"\n",
              "  width=\"100%\"\n",
              "  height=\"800px\"\n",
              "  style=\"border:none;\">\n",
              "</iframe>\n"
            ]
          },
          "metadata": {}
        }
      ]
    },
    {
      "cell_type": "code",
      "source": [
        "%%html\n",
        "<iframe\n",
        "  src=\"https://drive.google.com/file/d/1gEUbybUD7YCSyWzP8q_4kg7hP_viIWK-/preview\"\n",
        "  width=\"100%\"\n",
        "  height=\"800px\"\n",
        "  style=\"border: none;\"\n",
        "></iframe>\n"
      ],
      "metadata": {
        "colab": {
          "base_uri": "https://localhost:8080/",
          "height": 821
        },
        "id": "eY32lS1jQeBG",
        "outputId": "37edb543-e3c9-45c6-f8d9-84b1694c8537"
      },
      "id": "eY32lS1jQeBG",
      "execution_count": 29,
      "outputs": [
        {
          "output_type": "display_data",
          "data": {
            "text/plain": [
              "<IPython.core.display.HTML object>"
            ],
            "text/html": [
              "<iframe\n",
              "  src=\"https://drive.google.com/file/d/1gEUbybUD7YCSyWzP8q_4kg7hP_viIWK-/preview\"\n",
              "  width=\"100%\"\n",
              "  height=\"800px\"\n",
              "  style=\"border: none;\"\n",
              "></iframe>\n"
            ]
          },
          "metadata": {}
        }
      ]
    },
    {
      "cell_type": "markdown",
      "source": [
        "[📄 Open PDF in a new tab](/content/test.pdf){:target=\"_blank\"}\n"
      ],
      "metadata": {
        "id": "pTcZAS0MVDNV"
      },
      "id": "pTcZAS0MVDNV"
    },
    {
      "cell_type": "markdown",
      "id": "cddfa31e",
      "metadata": {
        "id": "cddfa31e"
      },
      "source": [
        "## 1. Database Setup and Connection\n",
        "\n",
        "First, let's import the necessary libraries and connect to our SQLite database."
      ]
    },
    {
      "cell_type": "markdown",
      "id": "173fff9c",
      "metadata": {
        "id": "173fff9c"
      },
      "source": [
        "![image.png](attachment:image.png)"
      ]
    },
    {
      "cell_type": "code",
      "execution_count": null,
      "id": "6c15509b",
      "metadata": {
        "id": "6c15509b",
        "outputId": "8dc7eb3b-4b46-4658-c4e3-99983ba8aa59"
      },
      "outputs": [
        {
          "name": "stdout",
          "output_type": "stream",
          "text": [
            "Connected to SQLite database successfully!\n"
          ]
        }
      ],
      "source": [
        "import sqlite3\n",
        "import pandas as pd\n",
        "from IPython.display import display\n",
        "\n",
        "# Connect to the SQLite database\n",
        "conn = sqlite3.connect('my_database.db')\n",
        "cursor = conn.cursor()\n",
        "\n",
        "print(\"Connected to SQLite database successfully!\")"
      ]
    },
    {
      "cell_type": "markdown",
      "id": "3b57571e",
      "metadata": {
        "id": "3b57571e"
      },
      "source": [
        "## 2. Creating Tables\n",
        "\n",
        "Let's create some sample tables to work with. We'll create tables for a simple company database with employees, departments, and projects."
      ]
    },
    {
      "cell_type": "code",
      "execution_count": null,
      "id": "7fcc8361",
      "metadata": {
        "id": "7fcc8361",
        "outputId": "6e9aa4f0-94a5-4c85-ca54-ab34c9f1d831"
      },
      "outputs": [
        {
          "name": "stdout",
          "output_type": "stream",
          "text": [
            "Tables created successfully!\n"
          ]
        }
      ],
      "source": [
        "# Create departments table\n",
        "cursor.execute('''\n",
        "CREATE TABLE IF NOT EXISTS departments (\n",
        "    dept_id INTEGER PRIMARY KEY,\n",
        "    dept_name VARCHAR(100) NOT NULL,\n",
        "    location VARCHAR(100)\n",
        ")\n",
        "''')\n",
        "\n",
        "# Create employees table\n",
        "cursor.execute('''\n",
        "CREATE TABLE IF NOT EXISTS employees (\n",
        "    emp_id INTEGER PRIMARY KEY,\n",
        "    first_name VARCHAR(50) NOT NULL,\n",
        "    last_name VARCHAR(50) NOT NULL,\n",
        "    email VARCHAR(100) UNIQUE,\n",
        "    hire_date DATE,\n",
        "    salary DECIMAL(10, 2),\n",
        "    dept_id INTEGER,\n",
        "    FOREIGN KEY (dept_id) REFERENCES departments (dept_id)\n",
        ")\n",
        "''')\n",
        "\n",
        "# Create projects table\n",
        "cursor.execute('''\n",
        "CREATE TABLE IF NOT EXISTS projects (\n",
        "    project_id INTEGER PRIMARY KEY,\n",
        "    project_name VARCHAR(100) NOT NULL,\n",
        "    start_date DATE,\n",
        "    end_date DATE,\n",
        "    budget DECIMAL(12, 2),\n",
        "    dept_id INTEGER,\n",
        "    FOREIGN KEY (dept_id) REFERENCES departments (dept_id)\n",
        ")\n",
        "''')\n",
        "\n",
        "conn.commit()\n",
        "print(\"Tables created successfully!\")"
      ]
    },
    {
      "cell_type": "markdown",
      "id": "b4f078bf",
      "metadata": {
        "id": "b4f078bf"
      },
      "source": [
        "## 3. Inserting Sample Data\n",
        "\n",
        "Now let's populate our tables with some sample data to work with."
      ]
    },
    {
      "cell_type": "code",
      "execution_count": null,
      "id": "3ca181ed",
      "metadata": {
        "id": "3ca181ed",
        "outputId": "edf6f70e-4616-4c82-93fa-b21a8d773a38"
      },
      "outputs": [
        {
          "name": "stdout",
          "output_type": "stream",
          "text": [
            "Sample data inserted successfully!\n"
          ]
        }
      ],
      "source": [
        "# Insert departments\n",
        "departments_data = [\n",
        "    (1, 'Human Resources', 'New York'),\n",
        "    (2, 'Engineering', 'San Francisco'),\n",
        "    (3, 'Marketing', 'Chicago'),\n",
        "    (4, 'Sales', 'Los Angeles'),\n",
        "    (5, 'Finance', 'Boston')\n",
        "]\n",
        "\n",
        "cursor.executemany('INSERT OR REPLACE INTO departments VALUES (?, ?, ?)', departments_data)\n",
        "\n",
        "# Insert employees\n",
        "employees_data = [\n",
        "    (1, 'John', 'Doe', 'john.doe@company.com', '2020-01-15', 75000, 2),\n",
        "    (2, 'Jane', 'Smith', 'jane.smith@company.com', '2019-03-22', 82000, 2),\n",
        "    (3, 'Mike', 'Johnson', 'mike.johnson@company.com', '2021-06-10', 65000, 3),\n",
        "    (4, 'Sarah', 'Williams', 'sarah.williams@company.com', '2020-09-05', 90000, 1),\n",
        "    (5, 'David', 'Brown', 'david.brown@company.com', '2018-11-12', 95000, 4),\n",
        "    (6, 'Emily', 'Davis', 'emily.davis@company.com', '2022-02-28', 70000, 5),\n",
        "    (7, 'Robert', 'Wilson', 'robert.wilson@company.com', '2019-08-17', 88000, 2),\n",
        "    (8, 'Lisa', 'Anderson', 'lisa.anderson@company.com', '2021-04-03', 72000, 3)\n",
        "]\n",
        "\n",
        "cursor.executemany('INSERT OR REPLACE INTO employees VALUES (?, ?, ?, ?, ?, ?, ?)', employees_data)\n",
        "\n",
        "# Insert projects\n",
        "projects_data = [\n",
        "    (1, 'Website Redesign', '2023-01-01', '2023-06-30', 150000, 2),\n",
        "    (2, 'Mobile App Development', '2023-03-15', '2023-12-31', 300000, 2),\n",
        "    (3, 'Marketing Campaign Q2', '2023-04-01', '2023-06-30', 75000, 3),\n",
        "    (4, 'Sales Training Program', '2023-02-01', '2023-05-31', 50000, 4),\n",
        "    (5, 'Financial System Upgrade', '2023-01-15', '2023-08-31', 200000, 5)\n",
        "]\n",
        "\n",
        "cursor.executemany('INSERT OR REPLACE INTO projects VALUES (?, ?, ?, ?, ?, ?)', projects_data)\n",
        "\n",
        "conn.commit()\n",
        "print(\"Sample data inserted successfully!\")"
      ]
    },
    {
      "cell_type": "markdown",
      "id": "6609abd1",
      "metadata": {
        "id": "6609abd1"
      },
      "source": [
        "## 4. Basic SELECT Queries\n",
        "\n",
        "Let's start with simple SELECT statements to retrieve data from our tables."
      ]
    },
    {
      "cell_type": "code",
      "execution_count": null,
      "id": "a64aa47e",
      "metadata": {
        "id": "a64aa47e",
        "outputId": "6f325639-d987-4e5c-e427-c6e9d81f1588"
      },
      "outputs": [
        {
          "name": "stdout",
          "output_type": "stream",
          "text": [
            "All employees:\n"
          ]
        },
        {
          "data": {
            "text/html": [
              "<div>\n",
              "<style scoped>\n",
              "    .dataframe tbody tr th:only-of-type {\n",
              "        vertical-align: middle;\n",
              "    }\n",
              "\n",
              "    .dataframe tbody tr th {\n",
              "        vertical-align: top;\n",
              "    }\n",
              "\n",
              "    .dataframe thead th {\n",
              "        text-align: right;\n",
              "    }\n",
              "</style>\n",
              "<table border=\"1\" class=\"dataframe\">\n",
              "  <thead>\n",
              "    <tr style=\"text-align: right;\">\n",
              "      <th></th>\n",
              "      <th>emp_id</th>\n",
              "      <th>first_name</th>\n",
              "      <th>last_name</th>\n",
              "      <th>email</th>\n",
              "      <th>hire_date</th>\n",
              "      <th>salary</th>\n",
              "      <th>dept_id</th>\n",
              "    </tr>\n",
              "  </thead>\n",
              "  <tbody>\n",
              "    <tr>\n",
              "      <th>0</th>\n",
              "      <td>1</td>\n",
              "      <td>John</td>\n",
              "      <td>Doe</td>\n",
              "      <td>john.doe@company.com</td>\n",
              "      <td>2020-01-15</td>\n",
              "      <td>75000</td>\n",
              "      <td>2</td>\n",
              "    </tr>\n",
              "    <tr>\n",
              "      <th>1</th>\n",
              "      <td>2</td>\n",
              "      <td>Jane</td>\n",
              "      <td>Smith</td>\n",
              "      <td>jane.smith@company.com</td>\n",
              "      <td>2019-03-22</td>\n",
              "      <td>82000</td>\n",
              "      <td>2</td>\n",
              "    </tr>\n",
              "    <tr>\n",
              "      <th>2</th>\n",
              "      <td>3</td>\n",
              "      <td>Mike</td>\n",
              "      <td>Johnson</td>\n",
              "      <td>mike.johnson@company.com</td>\n",
              "      <td>2021-06-10</td>\n",
              "      <td>65000</td>\n",
              "      <td>3</td>\n",
              "    </tr>\n",
              "    <tr>\n",
              "      <th>3</th>\n",
              "      <td>4</td>\n",
              "      <td>Sarah</td>\n",
              "      <td>Williams</td>\n",
              "      <td>sarah.williams@company.com</td>\n",
              "      <td>2020-09-05</td>\n",
              "      <td>90000</td>\n",
              "      <td>1</td>\n",
              "    </tr>\n",
              "    <tr>\n",
              "      <th>4</th>\n",
              "      <td>5</td>\n",
              "      <td>David</td>\n",
              "      <td>Brown</td>\n",
              "      <td>david.brown@company.com</td>\n",
              "      <td>2018-11-12</td>\n",
              "      <td>95000</td>\n",
              "      <td>4</td>\n",
              "    </tr>\n",
              "    <tr>\n",
              "      <th>5</th>\n",
              "      <td>6</td>\n",
              "      <td>Emily</td>\n",
              "      <td>Davis</td>\n",
              "      <td>emily.davis@company.com</td>\n",
              "      <td>2022-02-28</td>\n",
              "      <td>70000</td>\n",
              "      <td>5</td>\n",
              "    </tr>\n",
              "    <tr>\n",
              "      <th>6</th>\n",
              "      <td>7</td>\n",
              "      <td>Robert</td>\n",
              "      <td>Wilson</td>\n",
              "      <td>robert.wilson@company.com</td>\n",
              "      <td>2019-08-17</td>\n",
              "      <td>88000</td>\n",
              "      <td>2</td>\n",
              "    </tr>\n",
              "    <tr>\n",
              "      <th>7</th>\n",
              "      <td>8</td>\n",
              "      <td>Lisa</td>\n",
              "      <td>Anderson</td>\n",
              "      <td>lisa.anderson@company.com</td>\n",
              "      <td>2021-04-03</td>\n",
              "      <td>72000</td>\n",
              "      <td>3</td>\n",
              "    </tr>\n",
              "  </tbody>\n",
              "</table>\n",
              "</div>"
            ],
            "text/plain": [
              "   emp_id first_name last_name                       email   hire_date  \\\n",
              "0       1       John       Doe        john.doe@company.com  2020-01-15   \n",
              "1       2       Jane     Smith      jane.smith@company.com  2019-03-22   \n",
              "2       3       Mike   Johnson    mike.johnson@company.com  2021-06-10   \n",
              "3       4      Sarah  Williams  sarah.williams@company.com  2020-09-05   \n",
              "4       5      David     Brown     david.brown@company.com  2018-11-12   \n",
              "5       6      Emily     Davis     emily.davis@company.com  2022-02-28   \n",
              "6       7     Robert    Wilson   robert.wilson@company.com  2019-08-17   \n",
              "7       8       Lisa  Anderson   lisa.anderson@company.com  2021-04-03   \n",
              "\n",
              "   salary  dept_id  \n",
              "0   75000        2  \n",
              "1   82000        2  \n",
              "2   65000        3  \n",
              "3   90000        1  \n",
              "4   95000        4  \n",
              "5   70000        5  \n",
              "6   88000        2  \n",
              "7   72000        3  "
            ]
          },
          "metadata": {},
          "output_type": "display_data"
        },
        {
          "name": "stdout",
          "output_type": "stream",
          "text": [
            "\n",
            "==================================================\n",
            "\n",
            "Employee names and emails:\n"
          ]
        },
        {
          "data": {
            "text/html": [
              "<div>\n",
              "<style scoped>\n",
              "    .dataframe tbody tr th:only-of-type {\n",
              "        vertical-align: middle;\n",
              "    }\n",
              "\n",
              "    .dataframe tbody tr th {\n",
              "        vertical-align: top;\n",
              "    }\n",
              "\n",
              "    .dataframe thead th {\n",
              "        text-align: right;\n",
              "    }\n",
              "</style>\n",
              "<table border=\"1\" class=\"dataframe\">\n",
              "  <thead>\n",
              "    <tr style=\"text-align: right;\">\n",
              "      <th></th>\n",
              "      <th>first_name</th>\n",
              "      <th>last_name</th>\n",
              "      <th>email</th>\n",
              "    </tr>\n",
              "  </thead>\n",
              "  <tbody>\n",
              "    <tr>\n",
              "      <th>0</th>\n",
              "      <td>John</td>\n",
              "      <td>Doe</td>\n",
              "      <td>john.doe@company.com</td>\n",
              "    </tr>\n",
              "    <tr>\n",
              "      <th>1</th>\n",
              "      <td>Jane</td>\n",
              "      <td>Smith</td>\n",
              "      <td>jane.smith@company.com</td>\n",
              "    </tr>\n",
              "    <tr>\n",
              "      <th>2</th>\n",
              "      <td>Mike</td>\n",
              "      <td>Johnson</td>\n",
              "      <td>mike.johnson@company.com</td>\n",
              "    </tr>\n",
              "    <tr>\n",
              "      <th>3</th>\n",
              "      <td>Sarah</td>\n",
              "      <td>Williams</td>\n",
              "      <td>sarah.williams@company.com</td>\n",
              "    </tr>\n",
              "    <tr>\n",
              "      <th>4</th>\n",
              "      <td>David</td>\n",
              "      <td>Brown</td>\n",
              "      <td>david.brown@company.com</td>\n",
              "    </tr>\n",
              "    <tr>\n",
              "      <th>5</th>\n",
              "      <td>Emily</td>\n",
              "      <td>Davis</td>\n",
              "      <td>emily.davis@company.com</td>\n",
              "    </tr>\n",
              "    <tr>\n",
              "      <th>6</th>\n",
              "      <td>Robert</td>\n",
              "      <td>Wilson</td>\n",
              "      <td>robert.wilson@company.com</td>\n",
              "    </tr>\n",
              "    <tr>\n",
              "      <th>7</th>\n",
              "      <td>Lisa</td>\n",
              "      <td>Anderson</td>\n",
              "      <td>lisa.anderson@company.com</td>\n",
              "    </tr>\n",
              "  </tbody>\n",
              "</table>\n",
              "</div>"
            ],
            "text/plain": [
              "  first_name last_name                       email\n",
              "0       John       Doe        john.doe@company.com\n",
              "1       Jane     Smith      jane.smith@company.com\n",
              "2       Mike   Johnson    mike.johnson@company.com\n",
              "3      Sarah  Williams  sarah.williams@company.com\n",
              "4      David     Brown     david.brown@company.com\n",
              "5      Emily     Davis     emily.davis@company.com\n",
              "6     Robert    Wilson   robert.wilson@company.com\n",
              "7       Lisa  Anderson   lisa.anderson@company.com"
            ]
          },
          "metadata": {},
          "output_type": "display_data"
        },
        {
          "name": "stdout",
          "output_type": "stream",
          "text": [
            "\n",
            "==================================================\n",
            "\n",
            "All departments:\n"
          ]
        },
        {
          "data": {
            "text/html": [
              "<div>\n",
              "<style scoped>\n",
              "    .dataframe tbody tr th:only-of-type {\n",
              "        vertical-align: middle;\n",
              "    }\n",
              "\n",
              "    .dataframe tbody tr th {\n",
              "        vertical-align: top;\n",
              "    }\n",
              "\n",
              "    .dataframe thead th {\n",
              "        text-align: right;\n",
              "    }\n",
              "</style>\n",
              "<table border=\"1\" class=\"dataframe\">\n",
              "  <thead>\n",
              "    <tr style=\"text-align: right;\">\n",
              "      <th></th>\n",
              "      <th>dept_id</th>\n",
              "      <th>dept_name</th>\n",
              "      <th>location</th>\n",
              "    </tr>\n",
              "  </thead>\n",
              "  <tbody>\n",
              "    <tr>\n",
              "      <th>0</th>\n",
              "      <td>1</td>\n",
              "      <td>Human Resources</td>\n",
              "      <td>New York</td>\n",
              "    </tr>\n",
              "    <tr>\n",
              "      <th>1</th>\n",
              "      <td>2</td>\n",
              "      <td>Engineering</td>\n",
              "      <td>San Francisco</td>\n",
              "    </tr>\n",
              "    <tr>\n",
              "      <th>2</th>\n",
              "      <td>3</td>\n",
              "      <td>Marketing</td>\n",
              "      <td>Chicago</td>\n",
              "    </tr>\n",
              "    <tr>\n",
              "      <th>3</th>\n",
              "      <td>4</td>\n",
              "      <td>Sales</td>\n",
              "      <td>Los Angeles</td>\n",
              "    </tr>\n",
              "    <tr>\n",
              "      <th>4</th>\n",
              "      <td>5</td>\n",
              "      <td>Finance</td>\n",
              "      <td>Boston</td>\n",
              "    </tr>\n",
              "  </tbody>\n",
              "</table>\n",
              "</div>"
            ],
            "text/plain": [
              "   dept_id        dept_name       location\n",
              "0        1  Human Resources       New York\n",
              "1        2      Engineering  San Francisco\n",
              "2        3        Marketing        Chicago\n",
              "3        4            Sales    Los Angeles\n",
              "4        5          Finance         Boston"
            ]
          },
          "metadata": {},
          "output_type": "display_data"
        }
      ],
      "source": [
        "# Example 1: Select all columns from employees table\n",
        "print(\"All employees:\")\n",
        "df = pd.read_sql_query(\"SELECT * FROM employees\", conn)\n",
        "display(df)\n",
        "\n",
        "print(\"\\n\" + \"=\"*50 + \"\\n\")\n",
        "\n",
        "# Example 2: Select specific columns\n",
        "print(\"Employee names and emails:\")\n",
        "df = pd.read_sql_query(\"SELECT first_name, last_name, email FROM employees\", conn)\n",
        "display(df)\n",
        "\n",
        "print(\"\\n\" + \"=\"*50 + \"\\n\")\n",
        "\n",
        "# Example 3: Select all departments\n",
        "print(\"All departments:\")\n",
        "df = pd.read_sql_query(\"SELECT * FROM departments\", conn)\n",
        "display(df)"
      ]
    },
    {
      "cell_type": "markdown",
      "id": "9d66cfaf",
      "metadata": {
        "id": "9d66cfaf"
      },
      "source": [
        "## 5. Filtering with WHERE Clause\n",
        "\n",
        "The WHERE clause allows us to filter data based on specific conditions."
      ]
    },
    {
      "cell_type": "code",
      "execution_count": null,
      "id": "f8612b3d",
      "metadata": {
        "id": "f8612b3d",
        "outputId": "a74cb12c-cc1e-4302-e68f-575b994b1f4c"
      },
      "outputs": [
        {
          "name": "stdout",
          "output_type": "stream",
          "text": [
            "Employees with salary > 80000:\n"
          ]
        },
        {
          "data": {
            "text/html": [
              "<div>\n",
              "<style scoped>\n",
              "    .dataframe tbody tr th:only-of-type {\n",
              "        vertical-align: middle;\n",
              "    }\n",
              "\n",
              "    .dataframe tbody tr th {\n",
              "        vertical-align: top;\n",
              "    }\n",
              "\n",
              "    .dataframe thead th {\n",
              "        text-align: right;\n",
              "    }\n",
              "</style>\n",
              "<table border=\"1\" class=\"dataframe\">\n",
              "  <thead>\n",
              "    <tr style=\"text-align: right;\">\n",
              "      <th></th>\n",
              "      <th>first_name</th>\n",
              "      <th>last_name</th>\n",
              "      <th>salary</th>\n",
              "    </tr>\n",
              "  </thead>\n",
              "  <tbody>\n",
              "    <tr>\n",
              "      <th>0</th>\n",
              "      <td>Jane</td>\n",
              "      <td>Smith</td>\n",
              "      <td>82000</td>\n",
              "    </tr>\n",
              "    <tr>\n",
              "      <th>1</th>\n",
              "      <td>Sarah</td>\n",
              "      <td>Williams</td>\n",
              "      <td>90000</td>\n",
              "    </tr>\n",
              "    <tr>\n",
              "      <th>2</th>\n",
              "      <td>David</td>\n",
              "      <td>Brown</td>\n",
              "      <td>95000</td>\n",
              "    </tr>\n",
              "    <tr>\n",
              "      <th>3</th>\n",
              "      <td>Robert</td>\n",
              "      <td>Wilson</td>\n",
              "      <td>88000</td>\n",
              "    </tr>\n",
              "  </tbody>\n",
              "</table>\n",
              "</div>"
            ],
            "text/plain": [
              "  first_name last_name  salary\n",
              "0       Jane     Smith   82000\n",
              "1      Sarah  Williams   90000\n",
              "2      David     Brown   95000\n",
              "3     Robert    Wilson   88000"
            ]
          },
          "metadata": {},
          "output_type": "display_data"
        },
        {
          "name": "stdout",
          "output_type": "stream",
          "text": [
            "\n",
            "==================================================\n",
            "\n",
            "Employees in Engineering department (dept_id = 2):\n"
          ]
        },
        {
          "data": {
            "text/html": [
              "<div>\n",
              "<style scoped>\n",
              "    .dataframe tbody tr th:only-of-type {\n",
              "        vertical-align: middle;\n",
              "    }\n",
              "\n",
              "    .dataframe tbody tr th {\n",
              "        vertical-align: top;\n",
              "    }\n",
              "\n",
              "    .dataframe thead th {\n",
              "        text-align: right;\n",
              "    }\n",
              "</style>\n",
              "<table border=\"1\" class=\"dataframe\">\n",
              "  <thead>\n",
              "    <tr style=\"text-align: right;\">\n",
              "      <th></th>\n",
              "      <th>first_name</th>\n",
              "      <th>last_name</th>\n",
              "      <th>salary</th>\n",
              "    </tr>\n",
              "  </thead>\n",
              "  <tbody>\n",
              "    <tr>\n",
              "      <th>0</th>\n",
              "      <td>John</td>\n",
              "      <td>Doe</td>\n",
              "      <td>75000</td>\n",
              "    </tr>\n",
              "    <tr>\n",
              "      <th>1</th>\n",
              "      <td>Jane</td>\n",
              "      <td>Smith</td>\n",
              "      <td>82000</td>\n",
              "    </tr>\n",
              "    <tr>\n",
              "      <th>2</th>\n",
              "      <td>Robert</td>\n",
              "      <td>Wilson</td>\n",
              "      <td>88000</td>\n",
              "    </tr>\n",
              "  </tbody>\n",
              "</table>\n",
              "</div>"
            ],
            "text/plain": [
              "  first_name last_name  salary\n",
              "0       John       Doe   75000\n",
              "1       Jane     Smith   82000\n",
              "2     Robert    Wilson   88000"
            ]
          },
          "metadata": {},
          "output_type": "display_data"
        },
        {
          "name": "stdout",
          "output_type": "stream",
          "text": [
            "\n",
            "==================================================\n",
            "\n",
            "Engineering employees with salary > 80000:\n"
          ]
        },
        {
          "data": {
            "text/html": [
              "<div>\n",
              "<style scoped>\n",
              "    .dataframe tbody tr th:only-of-type {\n",
              "        vertical-align: middle;\n",
              "    }\n",
              "\n",
              "    .dataframe tbody tr th {\n",
              "        vertical-align: top;\n",
              "    }\n",
              "\n",
              "    .dataframe thead th {\n",
              "        text-align: right;\n",
              "    }\n",
              "</style>\n",
              "<table border=\"1\" class=\"dataframe\">\n",
              "  <thead>\n",
              "    <tr style=\"text-align: right;\">\n",
              "      <th></th>\n",
              "      <th>first_name</th>\n",
              "      <th>last_name</th>\n",
              "      <th>salary</th>\n",
              "    </tr>\n",
              "  </thead>\n",
              "  <tbody>\n",
              "    <tr>\n",
              "      <th>0</th>\n",
              "      <td>Jane</td>\n",
              "      <td>Smith</td>\n",
              "      <td>82000</td>\n",
              "    </tr>\n",
              "    <tr>\n",
              "      <th>1</th>\n",
              "      <td>Robert</td>\n",
              "      <td>Wilson</td>\n",
              "      <td>88000</td>\n",
              "    </tr>\n",
              "  </tbody>\n",
              "</table>\n",
              "</div>"
            ],
            "text/plain": [
              "  first_name last_name  salary\n",
              "0       Jane     Smith   82000\n",
              "1     Robert    Wilson   88000"
            ]
          },
          "metadata": {},
          "output_type": "display_data"
        },
        {
          "name": "stdout",
          "output_type": "stream",
          "text": [
            "\n",
            "==================================================\n",
            "\n",
            "Employees with first name starting with 'J':\n"
          ]
        },
        {
          "data": {
            "text/html": [
              "<div>\n",
              "<style scoped>\n",
              "    .dataframe tbody tr th:only-of-type {\n",
              "        vertical-align: middle;\n",
              "    }\n",
              "\n",
              "    .dataframe tbody tr th {\n",
              "        vertical-align: top;\n",
              "    }\n",
              "\n",
              "    .dataframe thead th {\n",
              "        text-align: right;\n",
              "    }\n",
              "</style>\n",
              "<table border=\"1\" class=\"dataframe\">\n",
              "  <thead>\n",
              "    <tr style=\"text-align: right;\">\n",
              "      <th></th>\n",
              "      <th>first_name</th>\n",
              "      <th>last_name</th>\n",
              "      <th>email</th>\n",
              "    </tr>\n",
              "  </thead>\n",
              "  <tbody>\n",
              "    <tr>\n",
              "      <th>0</th>\n",
              "      <td>John</td>\n",
              "      <td>Doe</td>\n",
              "      <td>john.doe@company.com</td>\n",
              "    </tr>\n",
              "    <tr>\n",
              "      <th>1</th>\n",
              "      <td>Jane</td>\n",
              "      <td>Smith</td>\n",
              "      <td>jane.smith@company.com</td>\n",
              "    </tr>\n",
              "  </tbody>\n",
              "</table>\n",
              "</div>"
            ],
            "text/plain": [
              "  first_name last_name                   email\n",
              "0       John       Doe    john.doe@company.com\n",
              "1       Jane     Smith  jane.smith@company.com"
            ]
          },
          "metadata": {},
          "output_type": "display_data"
        }
      ],
      "source": [
        "# Example 1: Filter by salary\n",
        "print(\"Employees with salary > 80000:\")\n",
        "df = pd.read_sql_query(\"SELECT first_name, last_name, salary FROM employees WHERE salary > 80000\", conn)\n",
        "display(df)\n",
        "\n",
        "print(\"\\n\" + \"=\"*50 + \"\\n\")\n",
        "\n",
        "# Example 2: Filter by department\n",
        "print(\"Employees in Engineering department (dept_id = 2):\")\n",
        "df = pd.read_sql_query(\"SELECT first_name, last_name, salary FROM employees WHERE dept_id = 2\", conn)\n",
        "display(df)\n",
        "\n",
        "print(\"\\n\" + \"=\"*50 + \"\\n\")\n",
        "\n",
        "# Example 3: Multiple conditions with AND\n",
        "print(\"Engineering employees with salary > 80000:\")\n",
        "df = pd.read_sql_query(\"SELECT first_name, last_name, salary FROM employees WHERE dept_id = 2 AND salary > 80000\", conn)\n",
        "display(df)\n",
        "\n",
        "print(\"\\n\" + \"=\"*50 + \"\\n\")\n",
        "\n",
        "# Example 4: Using LIKE for pattern matching\n",
        "print(\"Employees with first name starting with 'J':\")\n",
        "df = pd.read_sql_query(\"SELECT first_name, last_name, email FROM employees WHERE first_name LIKE 'J%'\", conn)\n",
        "display(df)"
      ]
    },
    {
      "cell_type": "markdown",
      "id": "fe83bd22",
      "metadata": {
        "id": "fe83bd22"
      },
      "source": [
        "## 6. Sorting Data with ORDER BY\n",
        "\n",
        "Learn how to sort results with ORDER BY for better data organization."
      ]
    },
    {
      "cell_type": "code",
      "execution_count": null,
      "id": "09b8e3c7",
      "metadata": {
        "id": "09b8e3c7",
        "outputId": "8dd7b1a1-65bc-41f5-d4ad-26cfbfb1bc40"
      },
      "outputs": [
        {
          "name": "stdout",
          "output_type": "stream",
          "text": [
            "Employees sorted by salary (highest first):\n"
          ]
        },
        {
          "data": {
            "text/html": [
              "<div>\n",
              "<style scoped>\n",
              "    .dataframe tbody tr th:only-of-type {\n",
              "        vertical-align: middle;\n",
              "    }\n",
              "\n",
              "    .dataframe tbody tr th {\n",
              "        vertical-align: top;\n",
              "    }\n",
              "\n",
              "    .dataframe thead th {\n",
              "        text-align: right;\n",
              "    }\n",
              "</style>\n",
              "<table border=\"1\" class=\"dataframe\">\n",
              "  <thead>\n",
              "    <tr style=\"text-align: right;\">\n",
              "      <th></th>\n",
              "      <th>first_name</th>\n",
              "      <th>last_name</th>\n",
              "      <th>salary</th>\n",
              "    </tr>\n",
              "  </thead>\n",
              "  <tbody>\n",
              "    <tr>\n",
              "      <th>0</th>\n",
              "      <td>David</td>\n",
              "      <td>Brown</td>\n",
              "      <td>95000</td>\n",
              "    </tr>\n",
              "    <tr>\n",
              "      <th>1</th>\n",
              "      <td>Sarah</td>\n",
              "      <td>Williams</td>\n",
              "      <td>90000</td>\n",
              "    </tr>\n",
              "    <tr>\n",
              "      <th>2</th>\n",
              "      <td>Robert</td>\n",
              "      <td>Wilson</td>\n",
              "      <td>88000</td>\n",
              "    </tr>\n",
              "    <tr>\n",
              "      <th>3</th>\n",
              "      <td>Jane</td>\n",
              "      <td>Smith</td>\n",
              "      <td>82000</td>\n",
              "    </tr>\n",
              "    <tr>\n",
              "      <th>4</th>\n",
              "      <td>John</td>\n",
              "      <td>Doe</td>\n",
              "      <td>75000</td>\n",
              "    </tr>\n",
              "    <tr>\n",
              "      <th>5</th>\n",
              "      <td>Lisa</td>\n",
              "      <td>Anderson</td>\n",
              "      <td>72000</td>\n",
              "    </tr>\n",
              "    <tr>\n",
              "      <th>6</th>\n",
              "      <td>Emily</td>\n",
              "      <td>Davis</td>\n",
              "      <td>70000</td>\n",
              "    </tr>\n",
              "    <tr>\n",
              "      <th>7</th>\n",
              "      <td>Mike</td>\n",
              "      <td>Johnson</td>\n",
              "      <td>65000</td>\n",
              "    </tr>\n",
              "  </tbody>\n",
              "</table>\n",
              "</div>"
            ],
            "text/plain": [
              "  first_name last_name  salary\n",
              "0      David     Brown   95000\n",
              "1      Sarah  Williams   90000\n",
              "2     Robert    Wilson   88000\n",
              "3       Jane     Smith   82000\n",
              "4       John       Doe   75000\n",
              "5       Lisa  Anderson   72000\n",
              "6      Emily     Davis   70000\n",
              "7       Mike   Johnson   65000"
            ]
          },
          "metadata": {},
          "output_type": "display_data"
        },
        {
          "name": "stdout",
          "output_type": "stream",
          "text": [
            "\n",
            "==================================================\n",
            "\n",
            "Employees sorted by department, then by salary:\n"
          ]
        },
        {
          "data": {
            "text/html": [
              "<div>\n",
              "<style scoped>\n",
              "    .dataframe tbody tr th:only-of-type {\n",
              "        vertical-align: middle;\n",
              "    }\n",
              "\n",
              "    .dataframe tbody tr th {\n",
              "        vertical-align: top;\n",
              "    }\n",
              "\n",
              "    .dataframe thead th {\n",
              "        text-align: right;\n",
              "    }\n",
              "</style>\n",
              "<table border=\"1\" class=\"dataframe\">\n",
              "  <thead>\n",
              "    <tr style=\"text-align: right;\">\n",
              "      <th></th>\n",
              "      <th>first_name</th>\n",
              "      <th>last_name</th>\n",
              "      <th>salary</th>\n",
              "      <th>dept_id</th>\n",
              "    </tr>\n",
              "  </thead>\n",
              "  <tbody>\n",
              "    <tr>\n",
              "      <th>0</th>\n",
              "      <td>Sarah</td>\n",
              "      <td>Williams</td>\n",
              "      <td>90000</td>\n",
              "      <td>1</td>\n",
              "    </tr>\n",
              "    <tr>\n",
              "      <th>1</th>\n",
              "      <td>Robert</td>\n",
              "      <td>Wilson</td>\n",
              "      <td>88000</td>\n",
              "      <td>2</td>\n",
              "    </tr>\n",
              "    <tr>\n",
              "      <th>2</th>\n",
              "      <td>Jane</td>\n",
              "      <td>Smith</td>\n",
              "      <td>82000</td>\n",
              "      <td>2</td>\n",
              "    </tr>\n",
              "    <tr>\n",
              "      <th>3</th>\n",
              "      <td>John</td>\n",
              "      <td>Doe</td>\n",
              "      <td>75000</td>\n",
              "      <td>2</td>\n",
              "    </tr>\n",
              "    <tr>\n",
              "      <th>4</th>\n",
              "      <td>Lisa</td>\n",
              "      <td>Anderson</td>\n",
              "      <td>72000</td>\n",
              "      <td>3</td>\n",
              "    </tr>\n",
              "    <tr>\n",
              "      <th>5</th>\n",
              "      <td>Mike</td>\n",
              "      <td>Johnson</td>\n",
              "      <td>65000</td>\n",
              "      <td>3</td>\n",
              "    </tr>\n",
              "    <tr>\n",
              "      <th>6</th>\n",
              "      <td>David</td>\n",
              "      <td>Brown</td>\n",
              "      <td>95000</td>\n",
              "      <td>4</td>\n",
              "    </tr>\n",
              "    <tr>\n",
              "      <th>7</th>\n",
              "      <td>Emily</td>\n",
              "      <td>Davis</td>\n",
              "      <td>70000</td>\n",
              "      <td>5</td>\n",
              "    </tr>\n",
              "  </tbody>\n",
              "</table>\n",
              "</div>"
            ],
            "text/plain": [
              "  first_name last_name  salary  dept_id\n",
              "0      Sarah  Williams   90000        1\n",
              "1     Robert    Wilson   88000        2\n",
              "2       Jane     Smith   82000        2\n",
              "3       John       Doe   75000        2\n",
              "4       Lisa  Anderson   72000        3\n",
              "5       Mike   Johnson   65000        3\n",
              "6      David     Brown   95000        4\n",
              "7      Emily     Davis   70000        5"
            ]
          },
          "metadata": {},
          "output_type": "display_data"
        },
        {
          "name": "stdout",
          "output_type": "stream",
          "text": [
            "\n",
            "==================================================\n",
            "\n",
            "Top 5 highest paid employees :\n"
          ]
        },
        {
          "data": {
            "text/html": [
              "<div>\n",
              "<style scoped>\n",
              "    .dataframe tbody tr th:only-of-type {\n",
              "        vertical-align: middle;\n",
              "    }\n",
              "\n",
              "    .dataframe tbody tr th {\n",
              "        vertical-align: top;\n",
              "    }\n",
              "\n",
              "    .dataframe thead th {\n",
              "        text-align: right;\n",
              "    }\n",
              "</style>\n",
              "<table border=\"1\" class=\"dataframe\">\n",
              "  <thead>\n",
              "    <tr style=\"text-align: right;\">\n",
              "      <th></th>\n",
              "      <th>first_name</th>\n",
              "      <th>last_name</th>\n",
              "      <th>salary</th>\n",
              "    </tr>\n",
              "  </thead>\n",
              "  <tbody>\n",
              "    <tr>\n",
              "      <th>0</th>\n",
              "      <td>David</td>\n",
              "      <td>Brown</td>\n",
              "      <td>95000</td>\n",
              "    </tr>\n",
              "    <tr>\n",
              "      <th>1</th>\n",
              "      <td>Sarah</td>\n",
              "      <td>Williams</td>\n",
              "      <td>90000</td>\n",
              "    </tr>\n",
              "    <tr>\n",
              "      <th>2</th>\n",
              "      <td>Robert</td>\n",
              "      <td>Wilson</td>\n",
              "      <td>88000</td>\n",
              "    </tr>\n",
              "    <tr>\n",
              "      <th>3</th>\n",
              "      <td>Jane</td>\n",
              "      <td>Smith</td>\n",
              "      <td>82000</td>\n",
              "    </tr>\n",
              "    <tr>\n",
              "      <th>4</th>\n",
              "      <td>John</td>\n",
              "      <td>Doe</td>\n",
              "      <td>75000</td>\n",
              "    </tr>\n",
              "  </tbody>\n",
              "</table>\n",
              "</div>"
            ],
            "text/plain": [
              "  first_name last_name  salary\n",
              "0      David     Brown   95000\n",
              "1      Sarah  Williams   90000\n",
              "2     Robert    Wilson   88000\n",
              "3       Jane     Smith   82000\n",
              "4       John       Doe   75000"
            ]
          },
          "metadata": {},
          "output_type": "display_data"
        }
      ],
      "source": [
        "# Example 1: ORDER BY - Sort by salary (highest first)\n",
        "print(\"Employees sorted by salary (highest first):\")\n",
        "df = pd.read_sql_query(\"SELECT first_name, last_name, salary FROM employees ORDER BY salary DESC\", conn)\n",
        "display(df)\n",
        "\n",
        "print(\"\\n\" + \"=\"*50 + \"\\n\")\n",
        "\n",
        "# Example 2: ORDER BY multiple columns\n",
        "print(\"Employees sorted by department, then by salary:\")\n",
        "df = pd.read_sql_query(\"SELECT first_name, last_name, salary, dept_id FROM employees ORDER BY dept_id, salary DESC\", conn)\n",
        "display(df)\n",
        "\n",
        "print(\"\\n\" + \"=\"*50 + \"\\n\")\n",
        "\n",
        "# Example 3: LIMIT - Get top 5 highest paid employees\n",
        "print(\"Top 5 highest paid employees :\")\n",
        "df = pd.read_sql_query(\"SELECT first_name, last_name, salary FROM employees ORDER BY salary DESC LIMIT 5\", conn)\n",
        "display(df)"
      ]
    },
    {
      "cell_type": "markdown",
      "id": "003a357d",
      "metadata": {
        "id": "003a357d"
      },
      "source": [
        "## Practice Exercises - Chapter 1\n",
        "\n",
        "Try these basic SQL exercises to test your understanding:\n",
        "\n",
        "### Exercise Questions:\n",
        "1. **Select all projects with their basic information**\n",
        "2. **Find all employees hired after 2020-01-01**\n",
        "3. **Get departments located in 'New York' or 'Chicago'**\n",
        "4. **List the 3 lowest paid employees**\n",
        "5. **Find all employees with email addresses containing 'smith'**\n",
        "\n",
        "Use the cell below to practice!"
      ]
    },
    {
      "cell_type": "code",
      "execution_count": null,
      "id": "e1ad9d25",
      "metadata": {
        "id": "e1ad9d25",
        "outputId": "511fe3f3-fc39-4c52-dca7-137ee94ac8e8"
      },
      "outputs": [
        {
          "name": "stdout",
          "output_type": "stream",
          "text": [
            "Exercise 1: All projects\n"
          ]
        },
        {
          "data": {
            "text/html": [
              "<div>\n",
              "<style scoped>\n",
              "    .dataframe tbody tr th:only-of-type {\n",
              "        vertical-align: middle;\n",
              "    }\n",
              "\n",
              "    .dataframe tbody tr th {\n",
              "        vertical-align: top;\n",
              "    }\n",
              "\n",
              "    .dataframe thead th {\n",
              "        text-align: right;\n",
              "    }\n",
              "</style>\n",
              "<table border=\"1\" class=\"dataframe\">\n",
              "  <thead>\n",
              "    <tr style=\"text-align: right;\">\n",
              "      <th></th>\n",
              "      <th>project_id</th>\n",
              "      <th>project_name</th>\n",
              "      <th>start_date</th>\n",
              "      <th>end_date</th>\n",
              "      <th>budget</th>\n",
              "      <th>dept_id</th>\n",
              "    </tr>\n",
              "  </thead>\n",
              "  <tbody>\n",
              "    <tr>\n",
              "      <th>0</th>\n",
              "      <td>1</td>\n",
              "      <td>Website Redesign</td>\n",
              "      <td>2023-01-01</td>\n",
              "      <td>2023-06-30</td>\n",
              "      <td>150000</td>\n",
              "      <td>2</td>\n",
              "    </tr>\n",
              "    <tr>\n",
              "      <th>1</th>\n",
              "      <td>2</td>\n",
              "      <td>Mobile App Development</td>\n",
              "      <td>2023-03-15</td>\n",
              "      <td>2023-12-31</td>\n",
              "      <td>300000</td>\n",
              "      <td>2</td>\n",
              "    </tr>\n",
              "    <tr>\n",
              "      <th>2</th>\n",
              "      <td>3</td>\n",
              "      <td>Marketing Campaign Q2</td>\n",
              "      <td>2023-04-01</td>\n",
              "      <td>2023-06-30</td>\n",
              "      <td>75000</td>\n",
              "      <td>3</td>\n",
              "    </tr>\n",
              "    <tr>\n",
              "      <th>3</th>\n",
              "      <td>4</td>\n",
              "      <td>Sales Training Program</td>\n",
              "      <td>2023-02-01</td>\n",
              "      <td>2023-05-31</td>\n",
              "      <td>50000</td>\n",
              "      <td>4</td>\n",
              "    </tr>\n",
              "    <tr>\n",
              "      <th>4</th>\n",
              "      <td>5</td>\n",
              "      <td>Financial System Upgrade</td>\n",
              "      <td>2023-01-15</td>\n",
              "      <td>2023-08-31</td>\n",
              "      <td>200000</td>\n",
              "      <td>5</td>\n",
              "    </tr>\n",
              "  </tbody>\n",
              "</table>\n",
              "</div>"
            ],
            "text/plain": [
              "   project_id              project_name  start_date    end_date  budget  \\\n",
              "0           1          Website Redesign  2023-01-01  2023-06-30  150000   \n",
              "1           2    Mobile App Development  2023-03-15  2023-12-31  300000   \n",
              "2           3     Marketing Campaign Q2  2023-04-01  2023-06-30   75000   \n",
              "3           4    Sales Training Program  2023-02-01  2023-05-31   50000   \n",
              "4           5  Financial System Upgrade  2023-01-15  2023-08-31  200000   \n",
              "\n",
              "   dept_id  \n",
              "0        2  \n",
              "1        2  \n",
              "2        3  \n",
              "3        4  \n",
              "4        5  "
            ]
          },
          "metadata": {},
          "output_type": "display_data"
        },
        {
          "name": "stdout",
          "output_type": "stream",
          "text": [
            "\n",
            "==================================================\n",
            "\n",
            "Exercise 2: Employees hired after 2020-01-01\n"
          ]
        },
        {
          "data": {
            "text/html": [
              "<div>\n",
              "<style scoped>\n",
              "    .dataframe tbody tr th:only-of-type {\n",
              "        vertical-align: middle;\n",
              "    }\n",
              "\n",
              "    .dataframe tbody tr th {\n",
              "        vertical-align: top;\n",
              "    }\n",
              "\n",
              "    .dataframe thead th {\n",
              "        text-align: right;\n",
              "    }\n",
              "</style>\n",
              "<table border=\"1\" class=\"dataframe\">\n",
              "  <thead>\n",
              "    <tr style=\"text-align: right;\">\n",
              "      <th></th>\n",
              "      <th>first_name</th>\n",
              "      <th>last_name</th>\n",
              "      <th>hire_date</th>\n",
              "    </tr>\n",
              "  </thead>\n",
              "  <tbody>\n",
              "    <tr>\n",
              "      <th>0</th>\n",
              "      <td>John</td>\n",
              "      <td>Doe</td>\n",
              "      <td>2020-01-15</td>\n",
              "    </tr>\n",
              "    <tr>\n",
              "      <th>1</th>\n",
              "      <td>Sarah</td>\n",
              "      <td>Williams</td>\n",
              "      <td>2020-09-05</td>\n",
              "    </tr>\n",
              "    <tr>\n",
              "      <th>2</th>\n",
              "      <td>Lisa</td>\n",
              "      <td>Anderson</td>\n",
              "      <td>2021-04-03</td>\n",
              "    </tr>\n",
              "    <tr>\n",
              "      <th>3</th>\n",
              "      <td>Mike</td>\n",
              "      <td>Johnson</td>\n",
              "      <td>2021-06-10</td>\n",
              "    </tr>\n",
              "    <tr>\n",
              "      <th>4</th>\n",
              "      <td>Emily</td>\n",
              "      <td>Davis</td>\n",
              "      <td>2022-02-28</td>\n",
              "    </tr>\n",
              "  </tbody>\n",
              "</table>\n",
              "</div>"
            ],
            "text/plain": [
              "  first_name last_name   hire_date\n",
              "0       John       Doe  2020-01-15\n",
              "1      Sarah  Williams  2020-09-05\n",
              "2       Lisa  Anderson  2021-04-03\n",
              "3       Mike   Johnson  2021-06-10\n",
              "4      Emily     Davis  2022-02-28"
            ]
          },
          "metadata": {},
          "output_type": "display_data"
        }
      ],
      "source": [
        "# Practice Area - Write your basic SQL queries here!\n",
        "\n",
        "# Example solution for Exercise 1\n",
        "print(\"Exercise 1: All projects\")\n",
        "query1 = \"SELECT * FROM projects\"\n",
        "df = pd.read_sql_query(query1, conn)\n",
        "display(df)\n",
        "\n",
        "print(\"\\n\" + \"=\"*50 + \"\\n\")\n",
        "\n",
        "# Exercise 2: Your turn to solve!\n",
        "print(\"Exercise 2: Employees hired after 2020-01-01\")\n",
        "# Write your query here\n",
        "query2 = \"\"\"\n",
        "SELECT first_name, last_name, hire_date\n",
        "FROM employees\n",
        "WHERE hire_date > '2020-01-01'\n",
        "ORDER BY hire_date\n",
        "\"\"\"\n",
        "df = pd.read_sql_query(query2, conn)\n",
        "display(df)\n",
        "\n",
        "# Continue with other exercises..."
      ]
    },
    {
      "cell_type": "markdown",
      "id": "dc07ef0a",
      "metadata": {
        "id": "dc07ef0a"
      },
      "source": [
        "## Chapter Summary\n",
        "\n",
        "In this chapter, you learned:\n",
        "\n",
        "✅ **Database Connection** - How to connect to SQLite from Python  \n",
        "✅ **Table Creation** - Creating tables with proper data types and constraints  \n",
        "✅ **Data Insertion** - Adding sample data to your tables  \n",
        "✅ **Basic SELECT** - Retrieving data from single tables  \n",
        "✅ **WHERE Clauses** - Filtering data with conditions  \n",
        "✅ **ORDER BY** - Sorting query results  \n",
        "\n",
        "### Next Steps\n",
        "In Chapter 2, we'll explore:\n",
        "- GROUP BY and aggregate functions\n",
        "- JOINs to combine multiple tables\n",
        "- More complex filtering techniques\n",
        "- Data analysis with SQL\n",
        "\n",
        "Ready to move on? Head to **Chapter 2: Intermediate SQL**!"
      ]
    }
  ],
  "metadata": {
    "kernelspec": {
      "display_name": "base",
      "language": "python",
      "name": "python3"
    },
    "language_info": {
      "codemirror_mode": {
        "name": "ipython",
        "version": 3
      },
      "file_extension": ".py",
      "mimetype": "text/x-python",
      "name": "python",
      "nbconvert_exporter": "python",
      "pygments_lexer": "ipython3",
      "version": "3.12.3"
    },
    "colab": {
      "provenance": [],
      "include_colab_link": true
    }
  },
  "nbformat": 4,
  "nbformat_minor": 5
}
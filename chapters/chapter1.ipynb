{
 "cells": [
  {
   "cell_type": "markdown",
   "id": "eef686c5",
   "metadata": {},
   "source": [
    "# Chapter 1: SQL Basics\n",
    "\n",
    "This chapter covers the fundamental concepts of SQL using SQLite. You'll learn database setup, table creation, and basic querying.\n",
    "\n",
    "## Topics Covered:\n",
    "1. Database Setup and Connection\n",
    "2. Creating Tables and Data Types\n",
    "3. Inserting Data\n",
    "4. Basic SELECT Queries\n",
    "5. Filtering with WHERE\n",
    "6. Sorting Data with ORDER BY"
   ]
  },
  {
   "cell_type": "markdown",
   "id": "cddfa31e",
   "metadata": {},
   "source": [
    "## 1. Database Setup and Connection\n",
    "\n",
    "First, let's import the necessary libraries and connect to our SQLite database."
   ]
  },
  {
   "cell_type": "code",
   "execution_count": null,
   "id": "6c15509b",
   "metadata": {},
   "outputs": [],
   "source": [
    "import sqlite3\n",
    "import pandas as pd\n",
    "from IPython.display import display\n",
    "\n",
    "# Connect to the SQLite database\n",
    "conn = sqlite3.connect('my_database.db')\n",
    "cursor = conn.cursor()\n",
    "\n",
    "print(\"Connected to SQLite database successfully!\")"
   ]
  },
  {
   "cell_type": "markdown",
   "id": "3b57571e",
   "metadata": {},
   "source": [
    "## 2. Creating Tables\n",
    "\n",
    "Let's create some sample tables to work with. We'll create tables for a simple company database with employees, departments, and projects."
   ]
  },
  {
   "cell_type": "code",
   "execution_count": null,
   "id": "7fcc8361",
   "metadata": {},
   "outputs": [],
   "source": [
    "# Create departments table\n",
    "cursor.execute('''\n",
    "CREATE TABLE IF NOT EXISTS departments (\n",
    "    dept_id INTEGER PRIMARY KEY,\n",
    "    dept_name VARCHAR(100) NOT NULL,\n",
    "    location VARCHAR(100)\n",
    ")\n",
    "''')\n",
    "\n",
    "# Create employees table\n",
    "cursor.execute('''\n",
    "CREATE TABLE IF NOT EXISTS employees (\n",
    "    emp_id INTEGER PRIMARY KEY,\n",
    "    first_name VARCHAR(50) NOT NULL,\n",
    "    last_name VARCHAR(50) NOT NULL,\n",
    "    email VARCHAR(100) UNIQUE,\n",
    "    hire_date DATE,\n",
    "    salary DECIMAL(10, 2),\n",
    "    dept_id INTEGER,\n",
    "    FOREIGN KEY (dept_id) REFERENCES departments (dept_id)\n",
    ")\n",
    "''')\n",
    "\n",
    "# Create projects table\n",
    "cursor.execute('''\n",
    "CREATE TABLE IF NOT EXISTS projects (\n",
    "    project_id INTEGER PRIMARY KEY,\n",
    "    project_name VARCHAR(100) NOT NULL,\n",
    "    start_date DATE,\n",
    "    end_date DATE,\n",
    "    budget DECIMAL(12, 2),\n",
    "    dept_id INTEGER,\n",
    "    FOREIGN KEY (dept_id) REFERENCES departments (dept_id)\n",
    ")\n",
    "''')\n",
    "\n",
    "conn.commit()\n",
    "print(\"Tables created successfully!\")"
   ]
  },
  {
   "cell_type": "markdown",
   "id": "b4f078bf",
   "metadata": {},
   "source": [
    "## 3. Inserting Sample Data\n",
    "\n",
    "Now let's populate our tables with some sample data to work with."
   ]
  },
  {
   "cell_type": "code",
   "execution_count": null,
   "id": "3ca181ed",
   "metadata": {},
   "outputs": [],
   "source": [
    "# Insert departments\n",
    "departments_data = [\n",
    "    (1, 'Human Resources', 'New York'),\n",
    "    (2, 'Engineering', 'San Francisco'),\n",
    "    (3, 'Marketing', 'Chicago'),\n",
    "    (4, 'Sales', 'Los Angeles'),\n",
    "    (5, 'Finance', 'Boston')\n",
    "]\n",
    "\n",
    "cursor.executemany('INSERT OR REPLACE INTO departments VALUES (?, ?, ?)', departments_data)\n",
    "\n",
    "# Insert employees\n",
    "employees_data = [\n",
    "    (1, 'John', 'Doe', 'john.doe@company.com', '2020-01-15', 75000, 2),\n",
    "    (2, 'Jane', 'Smith', 'jane.smith@company.com', '2019-03-22', 82000, 2),\n",
    "    (3, 'Mike', 'Johnson', 'mike.johnson@company.com', '2021-06-10', 65000, 3),\n",
    "    (4, 'Sarah', 'Williams', 'sarah.williams@company.com', '2020-09-05', 90000, 1),\n",
    "    (5, 'David', 'Brown', 'david.brown@company.com', '2018-11-12', 95000, 4),\n",
    "    (6, 'Emily', 'Davis', 'emily.davis@company.com', '2022-02-28', 70000, 5),\n",
    "    (7, 'Robert', 'Wilson', 'robert.wilson@company.com', '2019-08-17', 88000, 2),\n",
    "    (8, 'Lisa', 'Anderson', 'lisa.anderson@company.com', '2021-04-03', 72000, 3)\n",
    "]\n",
    "\n",
    "cursor.executemany('INSERT OR REPLACE INTO employees VALUES (?, ?, ?, ?, ?, ?, ?)', employees_data)\n",
    "\n",
    "# Insert projects\n",
    "projects_data = [\n",
    "    (1, 'Website Redesign', '2023-01-01', '2023-06-30', 150000, 2),\n",
    "    (2, 'Mobile App Development', '2023-03-15', '2023-12-31', 300000, 2),\n",
    "    (3, 'Marketing Campaign Q2', '2023-04-01', '2023-06-30', 75000, 3),\n",
    "    (4, 'Sales Training Program', '2023-02-01', '2023-05-31', 50000, 4),\n",
    "    (5, 'Financial System Upgrade', '2023-01-15', '2023-08-31', 200000, 5)\n",
    "]\n",
    "\n",
    "cursor.executemany('INSERT OR REPLACE INTO projects VALUES (?, ?, ?, ?, ?, ?)', projects_data)\n",
    "\n",
    "conn.commit()\n",
    "print(\"Sample data inserted successfully!\")"
   ]
  },
  {
   "cell_type": "markdown",
   "id": "6609abd1",
   "metadata": {},
   "source": [
    "## 4. Basic SELECT Queries\n",
    "\n",
    "Let's start with simple SELECT statements to retrieve data from our tables."
   ]
  },
  {
   "cell_type": "code",
   "execution_count": null,
   "id": "a64aa47e",
   "metadata": {},
   "outputs": [],
   "source": [
    "# Example 1: Select all columns from employees table\n",
    "print(\"All employees:\")\n",
    "df = pd.read_sql_query(\"SELECT * FROM employees\", conn)\n",
    "display(df)\n",
    "\n",
    "print(\"\\n\" + \"=\"*50 + \"\\n\")\n",
    "\n",
    "# Example 2: Select specific columns\n",
    "print(\"Employee names and emails:\")\n",
    "df = pd.read_sql_query(\"SELECT first_name, last_name, email FROM employees\", conn)\n",
    "display(df)\n",
    "\n",
    "print(\"\\n\" + \"=\"*50 + \"\\n\")\n",
    "\n",
    "# Example 3: Select all departments\n",
    "print(\"All departments:\")\n",
    "df = pd.read_sql_query(\"SELECT * FROM departments\", conn)\n",
    "display(df)"
   ]
  },
  {
   "cell_type": "markdown",
   "id": "9d66cfaf",
   "metadata": {},
   "source": [
    "## 5. Filtering with WHERE Clause\n",
    "\n",
    "The WHERE clause allows us to filter data based on specific conditions."
   ]
  },
  {
   "cell_type": "code",
   "execution_count": null,
   "id": "f8612b3d",
   "metadata": {},
   "outputs": [],
   "source": [
    "# Example 1: Filter by salary\n",
    "print(\"Employees with salary > 80000:\")\n",
    "df = pd.read_sql_query(\"SELECT first_name, last_name, salary FROM employees WHERE salary > 80000\", conn)\n",
    "display(df)\n",
    "\n",
    "print(\"\\n\" + \"=\"*50 + \"\\n\")\n",
    "\n",
    "# Example 2: Filter by department\n",
    "print(\"Employees in Engineering department (dept_id = 2):\")\n",
    "df = pd.read_sql_query(\"SELECT first_name, last_name, salary FROM employees WHERE dept_id = 2\", conn)\n",
    "display(df)\n",
    "\n",
    "print(\"\\n\" + \"=\"*50 + \"\\n\")\n",
    "\n",
    "# Example 3: Multiple conditions with AND\n",
    "print(\"Engineering employees with salary > 80000:\")\n",
    "df = pd.read_sql_query(\"SELECT first_name, last_name, salary FROM employees WHERE dept_id = 2 AND salary > 80000\", conn)\n",
    "display(df)\n",
    "\n",
    "print(\"\\n\" + \"=\"*50 + \"\\n\")\n",
    "\n",
    "# Example 4: Using LIKE for pattern matching\n",
    "print(\"Employees with first name starting with 'J':\")\n",
    "df = pd.read_sql_query(\"SELECT first_name, last_name, email FROM employees WHERE first_name LIKE 'J%'\", conn)\n",
    "display(df)"
   ]
  },
  {
   "cell_type": "markdown",
   "id": "fe83bd22",
   "metadata": {},
   "source": [
    "## 6. Sorting Data with ORDER BY\n",
    "\n",
    "Learn how to sort results with ORDER BY for better data organization."
   ]
  },
  {
   "cell_type": "code",
   "execution_count": null,
   "id": "09b8e3c7",
   "metadata": {},
   "outputs": [],
   "source": [
    "# Example 1: ORDER BY - Sort by salary (highest first)\n",
    "print(\"Employees sorted by salary (highest first):\")\n",
    "df = pd.read_sql_query(\"SELECT first_name, last_name, salary FROM employees ORDER BY salary DESC\", conn)\n",
    "display(df)\n",
    "\n",
    "print(\"\\n\" + \"=\"*50 + \"\\n\")\n",
    "\n",
    "# Example 2: ORDER BY multiple columns\n",
    "print(\"Employees sorted by department, then by salary:\")\n",
    "df = pd.read_sql_query(\"SELECT first_name, last_name, salary, dept_id FROM employees ORDER BY dept_id, salary DESC\", conn)\n",
    "display(df)\n",
    "\n",
    "print(\"\\n\" + \"=\"*50 + \"\\n\")\n",
    "\n",
    "# Example 3: LIMIT - Get top 5 highest paid employees\n",
    "print(\"Top 5 highest paid employees :\")\n",
    "df = pd.read_sql_query(\"SELECT first_name, last_name, salary FROM employees ORDER BY salary DESC LIMIT 5\", conn)\n",
    "display(df)"
   ]
  },
  {
   "cell_type": "markdown",
   "id": "003a357d",
   "metadata": {},
   "source": [
    "## Practice Exercises - Chapter 1\n",
    "\n",
    "Try these basic SQL exercises to test your understanding:\n",
    "\n",
    "### Exercise Questions:\n",
    "1. **Select all projects with their basic information**\n",
    "2. **Find all employees hired after 2020-01-01**\n",
    "3. **Get departments located in 'New York' or 'Chicago'**\n",
    "4. **List the 3 lowest paid employees**\n",
    "5. **Find all employees with email addresses containing 'smith'**\n",
    "\n",
    "Use the cell below to practice!"
   ]
  },
  {
   "cell_type": "code",
   "execution_count": null,
   "id": "e1ad9d25",
   "metadata": {},
   "outputs": [],
   "source": [
    "# Practice Area - Write your basic SQL queries here!\n",
    "\n",
    "# Example solution for Exercise 1\n",
    "print(\"Exercise 1: All projects\")\n",
    "query1 = \"SELECT * FROM projects\"\n",
    "df = pd.read_sql_query(query1, conn)\n",
    "display(df)\n",
    "\n",
    "print(\"\\n\" + \"=\"*50 + \"\\n\")\n",
    "\n",
    "# Exercise 2: Your turn to solve!\n",
    "print(\"Exercise 2: Employees hired after 2020-01-01\")\n",
    "# Write your query here\n",
    "query2 = \"\"\"\n",
    "SELECT first_name, last_name, hire_date\n",
    "FROM employees \n",
    "WHERE hire_date > '2020-01-01'\n",
    "ORDER BY hire_date\n",
    "\"\"\"\n",
    "df = pd.read_sql_query(query2, conn)\n",
    "display(df)\n",
    "\n",
    "# Continue with other exercises..."
   ]
  },
  {
   "cell_type": "markdown",
   "id": "dc07ef0a",
   "metadata": {},
   "source": [
    "## Chapter Summary\n",
    "\n",
    "In this chapter, you learned:\n",
    "\n",
    "✅ **Database Connection** - How to connect to SQLite from Python  \n",
    "✅ **Table Creation** - Creating tables with proper data types and constraints  \n",
    "✅ **Data Insertion** - Adding sample data to your tables  \n",
    "✅ **Basic SELECT** - Retrieving data from single tables  \n",
    "✅ **WHERE Clauses** - Filtering data with conditions  \n",
    "✅ **ORDER BY** - Sorting query results  \n",
    "\n",
    "### Next Steps\n",
    "In Chapter 2, we'll explore:\n",
    "- GROUP BY and aggregate functions\n",
    "- JOINs to combine multiple tables\n",
    "- More complex filtering techniques\n",
    "- Data analysis with SQL\n",
    "\n",
    "Ready to move on? Head to **Chapter 2: Intermediate SQL**!"
   ]
  }
 ],
 "metadata": {
  "language_info": {
   "name": "python"
  }
 },
 "nbformat": 4,
 "nbformat_minor": 5
}

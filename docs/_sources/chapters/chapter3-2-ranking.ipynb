{
 "cells": [
  {
   "cell_type": "markdown",
   "id": "49398275",
   "metadata": {},
   "source": [
    "# 3.2 Ranking Functions\n",
    "\n",
    "## Coming Soon\n",
    "ROW_NUMBER, RANK, DENSE_RANK functions."
   ]
  }
 ],
 "metadata": {
  "language_info": {
   "name": "python"
  }
 },
 "nbformat": 4,
 "nbformat_minor": 5
}

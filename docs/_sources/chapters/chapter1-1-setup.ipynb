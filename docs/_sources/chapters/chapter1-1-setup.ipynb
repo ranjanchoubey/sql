{
 "cells": [
  {
   "cell_type": "markdown",
   "id": "09644980",
   "metadata": {},
   "source": [
    "# 1.1 Database Setup and Connection\n",
    "\n",
    "This section covers the fundamental setup required for SQL learning, including connecting to SQLite databases and preparing your development environment.\n",
    "\n",
    "## Learning Objectives\n",
    "By the end of this section, you will be able to:\n",
    "- Set up a SQLite database connection using Python\n",
    "- Import necessary libraries for SQL operations\n",
    "- Verify database connectivity\n",
    "- Understand the SQLite database file structure\n",
    "\n",
    "## Prerequisites\n",
    "- Basic Python knowledge\n",
    "- Jupyter Notebook environment\n",
    "- Understanding of database concepts"
   ]
  },
  {
   "cell_type": "markdown",
   "id": "57cef689",
   "metadata": {},
   "source": [
    "## Database Connection Setup\n",
    "\n",
    "SQLite is a lightweight, file-based database that's perfect for learning SQL. Unlike other database systems, SQLite doesn't require a separate server process."
   ]
  },
  {
   "cell_type": "code",
   "execution_count": null,
   "id": "72adff79",
   "metadata": {},
   "outputs": [],
   "source": [
    "import sqlite3\n",
    "import pandas as pd\n",
    "from IPython.display import display\n",
    "import os\n",
    "\n",
    "# Connect to the SQLite database\n",
    "# This will create the database file if it doesn't exist\n",
    "conn = sqlite3.connect('my_database.db')\n",
    "cursor = conn.cursor()\n",
    "\n",
    "print(\"✅ Connected to SQLite database successfully!\")\n",
    "print(f\"📁 Database file location: {os.path.abspath('my_database.db')}\")\n",
    "\n",
    "# Check SQLite version\n",
    "cursor.execute(\"SELECT sqlite_version()\")\n",
    "version = cursor.fetchone()\n",
    "print(f\"🔢 SQLite version: {version[0]}\")"
   ]
  },
  {
   "cell_type": "markdown",
   "id": "8cac5568",
   "metadata": {},
   "source": [
    "## Understanding Database Connections\n",
    "\n",
    "### Connection Object (`conn`)\n",
    "- Represents the database connection\n",
    "- Used for committing transactions\n",
    "- Should be closed when finished\n",
    "\n",
    "### Cursor Object (`cursor`)\n",
    "- Used to execute SQL commands\n",
    "- Retrieves results from queries\n",
    "- Provides interface between Python and SQL"
   ]
  },
  {
   "cell_type": "code",
   "execution_count": null,
   "id": "e88f76ac",
   "metadata": {},
   "outputs": [],
   "source": [
    "# Demonstrate basic database operations\n",
    "print(\"🔍 Checking existing tables in database:\")\n",
    "\n",
    "# Query to show all tables\n",
    "cursor.execute(\"SELECT name FROM sqlite_master WHERE type='table';\")\n",
    "tables = cursor.fetchall()\n",
    "\n",
    "if tables:\n",
    "    print(\"Existing tables:\")\n",
    "    for table in tables:\n",
    "        print(f\"  • {table[0]}\")\n",
    "else:\n",
    "    print(\"  No tables found. This is a fresh database!\")\n",
    "\n",
    "print(f\"\\n📊 Total tables: {len(tables)}\")"
   ]
  },
  {
   "cell_type": "markdown",
   "id": "4bc0e8b9",
   "metadata": {},
   "source": [
    "## Environment Verification\n",
    "\n",
    "Let's verify that all required libraries are properly installed and working."
   ]
  },
  {
   "cell_type": "code",
   "execution_count": null,
   "id": "19990b17",
   "metadata": {},
   "outputs": [],
   "source": [
    "# Verify all required libraries\n",
    "libraries = {\n",
    "    'sqlite3': sqlite3,\n",
    "    'pandas': pd,\n",
    "    'IPython.display': display\n",
    "}\n",
    "\n",
    "print(\"📚 Library Verification:\")\n",
    "print(\"=\" * 40)\n",
    "\n",
    "all_good = True\n",
    "for lib_name, lib_module in libraries.items():\n",
    "    try:\n",
    "        version = getattr(lib_module, '__version__', 'Built-in')\n",
    "        print(f\"✅ {lib_name}: {version}\")\n",
    "    except Exception as e:\n",
    "        print(f\"❌ {lib_name}: Error - {e}\")\n",
    "        all_good = False\n",
    "\n",
    "print(\"=\" * 40)\n",
    "if all_good:\n",
    "    print(\"🎉 All libraries are working correctly!\")\n",
    "else:\n",
    "    print(\"⚠️ Some libraries have issues. Please check your installation.\")"
   ]
  },
  {
   "cell_type": "markdown",
   "id": "6f38abd6",
   "metadata": {},
   "source": [
    "## Practice Exercises\n",
    "\n",
    "1. **Connection Test**: Create a new database connection and verify it works\n",
    "2. **Library Check**: Import each library individually and check for errors\n",
    "3. **Database Info**: Query the database for system information\n",
    "\n",
    "Complete the exercises below:"
   ]
  },
  {
   "cell_type": "code",
   "execution_count": null,
   "id": "b25b9345",
   "metadata": {},
   "outputs": [],
   "source": [
    "# Exercise 1: Create a new connection\n",
    "print(\"Exercise 1: Testing new database connection\")\n",
    "try:\n",
    "    # Your code here - create a new connection to 'test_db.db'\n",
    "    test_conn = sqlite3.connect('test_db.db')\n",
    "    test_cursor = test_conn.cursor()\n",
    "    \n",
    "    # Test the connection\n",
    "    test_cursor.execute(\"SELECT 1 as test_value\")\n",
    "    result = test_cursor.fetchone()\n",
    "    print(f\"✅ Test connection successful! Result: {result[0]}\")\n",
    "    \n",
    "    # Clean up\n",
    "    test_conn.close()\n",
    "    os.remove('test_db.db')  # Remove test database\n",
    "    \n",
    "except Exception as e:\n",
    "    print(f\"❌ Connection failed: {e}\")\n",
    "\n",
    "print(\"\\n\" + \"=\"*30 + \"\\n\")\n",
    "\n",
    "# Exercise 2: Database metadata\n",
    "print(\"Exercise 2: Database metadata query\")\n",
    "cursor.execute(\"PRAGMA database_list\")\n",
    "db_info = cursor.fetchall()\n",
    "print(\"Database information:\")\n",
    "for db in db_info:\n",
    "    print(f\"  Sequence: {db[0]}, Name: {db[1]}, File: {db[2]}\")"
   ]
  },
  {
   "cell_type": "markdown",
   "id": "dbe8a44e",
   "metadata": {},
   "source": [
    "## Section Summary\n",
    "\n",
    "In this section, you learned:\n",
    "\n",
    "✅ **Database Connection**: How to connect to SQLite using `sqlite3.connect()`  \n",
    "✅ **Cursor Operations**: Creating and using database cursors  \n",
    "✅ **Library Setup**: Importing essential libraries for SQL work  \n",
    "✅ **Environment Verification**: Checking that everything is working correctly  \n",
    "✅ **Basic Queries**: Using `PRAGMA` commands for database metadata  \n",
    "\n",
    "### Key Concepts:\n",
    "- **Connection**: The link between Python and the database\n",
    "- **Cursor**: The interface for executing SQL commands\n",
    "- **SQLite**: A file-based database perfect for learning\n",
    "- **Pandas Integration**: Using `pd.read_sql_query()` for results\n",
    "\n",
    "### Next Steps\n",
    "In the next section (1.2), you'll learn how to create tables and define data types in SQL."
   ]
  }
 ],
 "metadata": {
  "language_info": {
   "name": "python"
  }
 },
 "nbformat": 4,
 "nbformat_minor": 5
}

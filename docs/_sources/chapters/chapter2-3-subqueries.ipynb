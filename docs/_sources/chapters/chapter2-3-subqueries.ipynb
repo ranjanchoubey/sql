{
 "cells": [
  {
   "cell_type": "markdown",
   "id": "32a3583f",
   "metadata": {},
   "source": [
    "# 2.3 Subqueries and Complex Queries\n",
    "\n",
    "Advanced query techniques using nested queries.\n",
    "\n",
    "## Coming Soon\n",
    "- Scalar subqueries\n",
    "- Correlated subqueries  \n",
    "- EXISTS and NOT EXISTS\n",
    "- Subqueries in SELECT, WHERE, and FROM clauses\n",
    "\n",
    "## Placeholder\n",
    "Full content in development."
   ]
  }
 ],
 "metadata": {
  "language_info": {
   "name": "python"
  }
 },
 "nbformat": 4,
 "nbformat_minor": 5
}

{
 "cells": [
  {
   "cell_type": "markdown",
   "id": "b7a8c76b",
   "metadata": {},
   "source": [
    "# 4.3 Constraints and Data Integrity\n",
    "\n",
    "## Coming Soon"
   ]
  }
 ],
 "metadata": {
  "language_info": {
   "name": "python"
  }
 },
 "nbformat": 4,
 "nbformat_minor": 5
}

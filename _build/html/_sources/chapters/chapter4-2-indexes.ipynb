{
 "cells": [
  {
   "cell_type": "markdown",
   "id": "8cab5790",
   "metadata": {},
   "source": [
    "# 4.2 Indexes and Performance\n",
    "\n",
    "## Coming Soon"
   ]
  }
 ],
 "metadata": {
  "language_info": {
   "name": "python"
  }
 },
 "nbformat": 4,
 "nbformat_minor": 5
}

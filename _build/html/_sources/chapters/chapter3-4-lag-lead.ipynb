{
 "cells": [
  {
   "cell_type": "markdown",
   "id": "282ab77a",
   "metadata": {},
   "source": [
    "# 3.4 LAG and LEAD Functions\n",
    "\n",
    "## Coming Soon\n",
    "Working with previous and next row values."
   ]
  }
 ],
 "metadata": {
  "language_info": {
   "name": "python"
  }
 },
 "nbformat": 4,
 "nbformat_minor": 5
}

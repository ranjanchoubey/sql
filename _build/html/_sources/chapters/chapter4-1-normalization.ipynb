{
 "cells": [
  {
   "cell_type": "markdown",
   "id": "4122b2bb",
   "metadata": {},
   "source": [
    "# 4.1 Database Normalization\n",
    "\n",
    "## Coming Soon"
   ]
  }
 ],
 "metadata": {
  "language_info": {
   "name": "python"
  }
 },
 "nbformat": 4,
 "nbformat_minor": 5
}

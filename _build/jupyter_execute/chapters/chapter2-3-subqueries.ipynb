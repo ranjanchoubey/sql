{
 "cells": [
  {
   "cell_type": "markdown",
   "id": "32a3583f",
   "metadata": {},
   "source": [
    "# 2.3 Subqueries and Complex Queries\n",
    "\n",
    "Advanced query techniques using nested queries.\n",
    "\n",
    "## Coming Soon\n",
    "- Scalar subqueries\n",
    "- Correlated subqueries  \n",
    "- EXISTS and NOT EXISTS\n",
    "- Subqueries in SELECT, WHERE, and FROM clauses\n",
    "\n",
    "## Placeholder\n",
    "Full content in development."
   ]
  }
 ],
 "metadata": {
  "language_info": {
   "codemirror_mode": {
    "name": "ipython",
    "version": 3
   },
   "file_extension": ".py",
   "mimetype": "text/x-python",
   "name": "python",
   "nbconvert_exporter": "python",
   "pygments_lexer": "ipython3",
   "version": "3.12.1"
  }
 },
 "nbformat": 4,
 "nbformat_minor": 5
}
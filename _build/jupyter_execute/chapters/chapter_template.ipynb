{
 "cells": [
  {
   "cell_type": "markdown",
   "id": "d2a54d2b",
   "metadata": {},
   "source": [
    "# Chapter X: [Chapter Title]\n",
    "\n",
    "Brief description of what this chapter covers.\n",
    "\n",
    "## Learning Objectives\n",
    "By the end of this chapter, you will be able to:\n",
    "- Objective 1\n",
    "- Objective 2\n",
    "- Objective 3\n",
    "\n",
    "## Prerequisites\n",
    "- Prerequisite 1\n",
    "- Prerequisite 2"
   ]
  },
  {
   "cell_type": "markdown",
   "id": "3440a3bf",
   "metadata": {},
   "source": [
    "## X.1 Section Title\n",
    "\n",
    "Introduction to the section."
   ]
  },
  {
   "cell_type": "code",
   "execution_count": 1,
   "id": "fc4d6e44",
   "metadata": {},
   "outputs": [
    {
     "name": "stdout",
     "output_type": "stream",
     "text": [
      "Database connection established!\n"
     ]
    }
   ],
   "source": [
    "# Database setup (if needed)\n",
    "import sqlite3\n",
    "import pandas as pd\n",
    "from IPython.display import display\n",
    "\n",
    "# Connect to the SQLite database\n",
    "conn = sqlite3.connect('my_database.db')\n",
    "cursor = conn.cursor()\n",
    "\n",
    "print(\"Database connection established!\")"
   ]
  },
  {
   "cell_type": "markdown",
   "id": "3b2fc7ef",
   "metadata": {},
   "source": [
    "## X.2 Core Concepts\n",
    "\n",
    "Explanation of key concepts."
   ]
  },
  {
   "cell_type": "code",
   "execution_count": 2,
   "id": "03125b99",
   "metadata": {},
   "outputs": [
    {
     "name": "stdout",
     "output_type": "stream",
     "text": [
      "Example implementation\n"
     ]
    },
    {
     "data": {
      "text/html": [
       "<div>\n",
       "<style scoped>\n",
       "    .dataframe tbody tr th:only-of-type {\n",
       "        vertical-align: middle;\n",
       "    }\n",
       "\n",
       "    .dataframe tbody tr th {\n",
       "        vertical-align: top;\n",
       "    }\n",
       "\n",
       "    .dataframe thead th {\n",
       "        text-align: right;\n",
       "    }\n",
       "</style>\n",
       "<table border=\"1\" class=\"dataframe\">\n",
       "  <thead>\n",
       "    <tr style=\"text-align: right;\">\n",
       "      <th></th>\n",
       "      <th>emp_id</th>\n",
       "      <th>first_name</th>\n",
       "      <th>last_name</th>\n",
       "      <th>email</th>\n",
       "      <th>hire_date</th>\n",
       "      <th>salary</th>\n",
       "      <th>dept_id</th>\n",
       "    </tr>\n",
       "  </thead>\n",
       "  <tbody>\n",
       "    <tr>\n",
       "      <th>0</th>\n",
       "      <td>1</td>\n",
       "      <td>John</td>\n",
       "      <td>Doe</td>\n",
       "      <td>john.doe@company.com</td>\n",
       "      <td>2020-01-15</td>\n",
       "      <td>75000</td>\n",
       "      <td>2</td>\n",
       "    </tr>\n",
       "    <tr>\n",
       "      <th>1</th>\n",
       "      <td>2</td>\n",
       "      <td>Jane</td>\n",
       "      <td>Smith</td>\n",
       "      <td>jane.smith@company.com</td>\n",
       "      <td>2019-03-22</td>\n",
       "      <td>82000</td>\n",
       "      <td>2</td>\n",
       "    </tr>\n",
       "    <tr>\n",
       "      <th>2</th>\n",
       "      <td>3</td>\n",
       "      <td>Mike</td>\n",
       "      <td>Johnson</td>\n",
       "      <td>mike.johnson@company.com</td>\n",
       "      <td>2021-06-10</td>\n",
       "      <td>65000</td>\n",
       "      <td>3</td>\n",
       "    </tr>\n",
       "    <tr>\n",
       "      <th>3</th>\n",
       "      <td>4</td>\n",
       "      <td>Sarah</td>\n",
       "      <td>Williams</td>\n",
       "      <td>sarah.williams@company.com</td>\n",
       "      <td>2020-09-05</td>\n",
       "      <td>90000</td>\n",
       "      <td>1</td>\n",
       "    </tr>\n",
       "    <tr>\n",
       "      <th>4</th>\n",
       "      <td>5</td>\n",
       "      <td>David</td>\n",
       "      <td>Brown</td>\n",
       "      <td>david.brown@company.com</td>\n",
       "      <td>2018-11-12</td>\n",
       "      <td>95000</td>\n",
       "      <td>4</td>\n",
       "    </tr>\n",
       "  </tbody>\n",
       "</table>\n",
       "</div>"
      ],
      "text/plain": [
       "   emp_id first_name last_name                       email   hire_date  \\\n",
       "0       1       John       Doe        john.doe@company.com  2020-01-15   \n",
       "1       2       Jane     Smith      jane.smith@company.com  2019-03-22   \n",
       "2       3       Mike   Johnson    mike.johnson@company.com  2021-06-10   \n",
       "3       4      Sarah  Williams  sarah.williams@company.com  2020-09-05   \n",
       "4       5      David     Brown     david.brown@company.com  2018-11-12   \n",
       "\n",
       "   salary  dept_id  \n",
       "0   75000        2  \n",
       "1   82000        2  \n",
       "2   65000        3  \n",
       "3   90000        1  \n",
       "4   95000        4  "
      ]
     },
     "metadata": {},
     "output_type": "display_data"
    }
   ],
   "source": [
    "# Example code demonstrating concepts\n",
    "print(\"Example implementation\")\n",
    "\n",
    "# Sample query\n",
    "df = pd.read_sql_query(\"SELECT * FROM employees LIMIT 5\", conn)\n",
    "display(df)"
   ]
  },
  {
   "cell_type": "markdown",
   "id": "3da55ede",
   "metadata": {},
   "source": [
    "## X.3 Practice Exercises\n",
    "\n",
    "Apply what you've learned:\n",
    "\n",
    "1. **Exercise 1**: Description\n",
    "2. **Exercise 2**: Description  \n",
    "3. **Exercise 3**: Description\n",
    "\n",
    "Use the cell below to practice:"
   ]
  },
  {
   "cell_type": "code",
   "execution_count": 3,
   "id": "c33af450",
   "metadata": {},
   "outputs": [
    {
     "name": "stdout",
     "output_type": "stream",
     "text": [
      "Exercise 1 Solution:\n",
      "\n",
      "==============================\n",
      "\n",
      "Exercise 2 Solution:\n"
     ]
    }
   ],
   "source": [
    "# Practice Area - Write your solutions here!\n",
    "\n",
    "# Exercise 1\n",
    "print(\"Exercise 1 Solution:\")\n",
    "# Your code here\n",
    "\n",
    "print(\"\\n\" + \"=\"*30 + \"\\n\")\n",
    "\n",
    "# Exercise 2  \n",
    "print(\"Exercise 2 Solution:\")\n",
    "# Your code here"
   ]
  },
  {
   "cell_type": "markdown",
   "id": "3d64b72d",
   "metadata": {},
   "source": [
    "## Chapter X Summary\n",
    "\n",
    "In this chapter, you learned:\n",
    "\n",
    "✅ **Topic 1**: Description  \n",
    "✅ **Topic 2**: Description  \n",
    "✅ **Topic 3**: Description  \n",
    "\n",
    "### Key Commands Covered:\n",
    "- `COMMAND1` - Description\n",
    "- `COMMAND2` - Description\n",
    "\n",
    "### Next Steps\n",
    "Continue to the next chapter to learn about..."
   ]
  }
 ],
 "metadata": {
  "language_info": {
   "codemirror_mode": {
    "name": "ipython",
    "version": 3
   },
   "file_extension": ".py",
   "mimetype": "text/x-python",
   "name": "python",
   "nbconvert_exporter": "python",
   "pygments_lexer": "ipython3",
   "version": "3.12.1"
  }
 },
 "nbformat": 4,
 "nbformat_minor": 5
}
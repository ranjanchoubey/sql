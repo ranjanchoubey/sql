{
 "cells": [
  {
   "cell_type": "markdown",
   "id": "49398275",
   "metadata": {},
   "source": [
    "# 3.2 Ranking Functions\n",
    "\n",
    "## Coming Soon\n",
    "ROW_NUMBER, RANK, DENSE_RANK functions."
   ]
  }
 ],
 "metadata": {
  "language_info": {
   "codemirror_mode": {
    "name": "ipython",
    "version": 3
   },
   "file_extension": ".py",
   "mimetype": "text/x-python",
   "name": "python",
   "nbconvert_exporter": "python",
   "pygments_lexer": "ipython3",
   "version": "3.12.1"
  }
 },
 "nbformat": 4,
 "nbformat_minor": 5
}
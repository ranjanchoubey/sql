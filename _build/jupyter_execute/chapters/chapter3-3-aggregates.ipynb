{
 "cells": [
  {
   "cell_type": "markdown",
   "id": "b012914b",
   "metadata": {},
   "source": [
    "# 3.3 Window Aggregates\n",
    "\n",
    "## Coming Soon\n",
    "Aggregate functions with window clauses."
   ]
  }
 ],
 "metadata": {
  "language_info": {
   "codemirror_mode": {
    "name": "ipython",
    "version": 3
   },
   "file_extension": ".py",
   "mimetype": "text/x-python",
   "name": "python",
   "nbconvert_exporter": "python",
   "pygments_lexer": "ipython3",
   "version": "3.12.1"
  }
 },
 "nbformat": 4,
 "nbformat_minor": 5
}
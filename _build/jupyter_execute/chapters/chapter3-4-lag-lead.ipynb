{
 "cells": [
  {
   "cell_type": "markdown",
   "id": "282ab77a",
   "metadata": {},
   "source": [
    "# 3.4 LAG and LEAD Functions\n",
    "\n",
    "## Coming Soon\n",
    "Working with previous and next row values."
   ]
  }
 ],
 "metadata": {
  "language_info": {
   "codemirror_mode": {
    "name": "ipython",
    "version": 3
   },
   "file_extension": ".py",
   "mimetype": "text/x-python",
   "name": "python",
   "nbconvert_exporter": "python",
   "pygments_lexer": "ipython3",
   "version": "3.12.1"
  }
 },
 "nbformat": 4,
 "nbformat_minor": 5
}